{
 "cells": [
  {
   "cell_type": "code",
   "execution_count": 1,
   "metadata": {},
   "outputs": [],
   "source": [
    "richtung_WS = 1 #Richtung des Wärmestroms, 0: Aufwärts, 1:Horizontal, 2:Abwärts\n",
    "r = 4 # 精度小数点后几位\n",
    "homogen = True # homogene Bauteile, True or False\n",
    "\n",
    "list_d = [0.015,0.365,0.02,0.14,0.01] # unit [m]\n",
    "list_Lambda = [1,0.81,1,0.035,1] # unit [W/mK]"
   ]
  },
  {
   "cell_type": "code",
   "execution_count": 2,
   "metadata": {},
   "outputs": [],
   "source": [
    "if richtung_WS == 0:\n",
    "    R_si = 0.1\n",
    "    R_se = 0.04\n",
    "elif richtung_WS == 1:\n",
    "    R_si = 0.13\n",
    "    R_se = 0.04\n",
    "else:\n",
    "    R_si = 0.17\n",
    "    R_se = 0.04"
   ]
  },
  {
   "cell_type": "code",
   "execution_count": 3,
   "metadata": {},
   "outputs": [],
   "source": [
    "# functions\n",
    "## calculate Wärmewiderstand R with Dicke d and Lambda.\n",
    "def dL2R(d,Lambda):\n",
    "    R = d / Lambda\n",
    "    R = round(R,r)\n",
    "    return R\n",
    "\n",
    "## calculate U value for homogene Bauteile\n",
    "def homogene_bauteile_U(list_R):\n",
    "    R_T = R_si + R_se + sum(list_R)\n",
    "    U = 1 / R_T\n",
    "    return U\n"
   ]
  },
  {
   "cell_type": "code",
   "execution_count": 4,
   "metadata": {},
   "outputs": [
    {
     "name": "stdout",
     "output_type": "stream",
     "text": [
      "[0.015, 0.4506, 0.02, 4.0, 0.01]\n",
      "0.13 0.04\n"
     ]
    }
   ],
   "source": [
    "# calculate R value\n",
    "list_R = []\n",
    "\n",
    "if len(list_d) != len(list_Lambda):\n",
    "    print('ERROR: d and Lambda not match')\n",
    "else:\n",
    "    for i in range (0,len(list_d)):\n",
    "        list_R.append(dL2R(list_d[i],list_Lambda[i]))\n",
    "\n",
    "print(list_R)\n",
    "print(R_si,R_se)"
   ]
  },
  {
   "cell_type": "code",
   "execution_count": 5,
   "metadata": {},
   "outputs": [
    {
     "data": {
      "text/plain": [
       "0.21433470507544583"
      ]
     },
     "execution_count": 5,
     "metadata": {},
     "output_type": "execute_result"
    }
   ],
   "source": [
    "homogene_bauteile_U(list_R)"
   ]
  },
  {
   "cell_type": "code",
   "execution_count": null,
   "metadata": {},
   "outputs": [],
   "source": []
  }
 ],
 "metadata": {
  "kernelspec": {
   "display_name": "Python 3",
   "language": "python",
   "name": "python3"
  },
  "language_info": {
   "codemirror_mode": {
    "name": "ipython",
    "version": 3
   },
   "file_extension": ".py",
   "mimetype": "text/x-python",
   "name": "python",
   "nbconvert_exporter": "python",
   "pygments_lexer": "ipython3",
   "version": "3.7.4"
  }
 },
 "nbformat": 4,
 "nbformat_minor": 4
}
