{
 "cells": [
  {
   "cell_type": "code",
   "execution_count": 25,
   "metadata": {},
   "outputs": [],
   "source": [
    "import numpy as np\n",
    "\n",
    "# DIN EN ISO 6946, Tabelle 10\n",
    "Dicke_Luftschicht = ()\n",
    "R_Luftschicht = ()\n",
    "L = 0\n",
    "\n",
    "richtung_WS = 1 #Richtung des Wärmestroms, 0: Aufwärts, 1:Horizontal, 2:Abwärts\n",
    "r = 4 # 精度,小数点位数\n",
    "homogen = True # homogene Bauteile, True or False\n",
    "\n",
    "# input 'L' into list_Lambda if it's Luftschicht(ruhend)\n",
    "## Dicke [m] / Lambda [W/mK] / Baustoff\n",
    "m1 = np.array([[0.0125,0.21,'Gipskarton'],\n",
    "            [0.0002,0.2,'PE-Flie'],\n",
    "            [0.0125,0.21,'Gipskarton'],\n",
    "            [0.01,0.04,'Mineralwolle'],\n",
    "            [0.08,0.04,'Mineralwolle'],\n",
    "            [0.01,0.04,'Mineralwolle'],\n",
    "            [0.015,0.36,'Gipsfaser'],\n",
    "            [0.06,0.035,'Faserdaemmstoffe']])\n",
    "\n",
    "m1_p = 94 # %\n",
    "\n",
    "m2 = np.array([[0.0125,0.21,'Gipskarton'],\n",
    "            [0.0002,0.2,'PE-Flie'],\n",
    "            [0.0125,0.21,'Gipskarton'],\n",
    "            [0.01,60,'Stahl'],\n",
    "            [0.08,0.04,'Luftschicht'],\n",
    "            [0.01,60,'Stahl'],\n",
    "            [0.015,0.36,'Gipsfaser'],\n",
    "            [0.06,0.035,'Faserdaemmstoffe']])\n",
    "\n",
    "m2_p = 5 # %\n",
    "\n",
    "m3 = np.array([[0.0125,0.21,'Gipskarton'],\n",
    "            [0.0002,0.2,'PE-Flie'],\n",
    "            [0.0125,0.21,'Gipskarton'],\n",
    "            [0.01,60,'Stahl'],\n",
    "            [0.08,60,'Stahl'],\n",
    "            [0.01,60,'Stahl'],\n",
    "            [0.015,0.36,'Gipsfaser'],\n",
    "            [0.06,0.035,'Faserdaemmstoffe']])\n",
    "\n",
    "m3_p = 1 # %\n",
    "\n",
    "list_d = [0.015,0.365,0.02,0.14,0.01] # unit [m]\n",
    "list_Lambda = [1,0.81,1,0.035,1] # unit [W/mK]\n"
   ]
  },
  {
   "cell_type": "code",
   "execution_count": 26,
   "metadata": {},
   "outputs": [],
   "source": [
    "# DIN EN ISO 6946, Tabelle 9\n",
    "if richtung_WS == 0:\n",
    "    R_si = 0.1\n",
    "    R_se = 0.04\n",
    "elif richtung_WS == 1:\n",
    "    R_si = 0.13\n",
    "    R_se = 0.04\n",
    "elif richtung_WS == 2:\n",
    "    R_si = 0.17\n",
    "    R_se = 0.04\n",
    "else:\n",
    "    print('ERROR: Richtung des Wärmestroms inkorrekt (0 ~ 2)')"
   ]
  },
  {
   "cell_type": "code",
   "execution_count": 27,
   "metadata": {},
   "outputs": [],
   "source": [
    "# functions\n",
    "## calculate Wärmewiderstand R with Dicke d and Lambda.\n",
    "def dL2R(d,Lambda):\n",
    "    if homogen == True:\n",
    "        R = d / Lambda\n",
    "        R = round(R,r)\n",
    "        return R\n",
    "    else:\n",
    "        pass\n",
    "\n",
    "## calculate U value for homogene Bauteile\n",
    "def homogene_bauteile_U(list_R):\n",
    "    R_T = R_si + R_se + sum(list_R)\n",
    "    U = 1 / R_T\n",
    "    return U\n",
    "\n",
    "## calulate Wärmewiderstand R with d and Lambda for inhomogene Bauteile\n",
    "\n",
    "\n",
    "## calculate U value for inhomogene Bauteile\n",
    "#def inhomogene_bauteile_U(list_R):\n",
    "\n"
   ]
  },
  {
   "cell_type": "code",
   "execution_count": 38,
   "metadata": {},
   "outputs": [],
   "source": [
    "# calculate R value\n",
    "list_R = []\n",
    "m1_R = np.array([])\n",
    "if homogen == True:\n",
    "    if len(list_d) != len(list_Lambda):\n",
    "        print('ERROR: d and Lambda not match')\n",
    "    else:\n",
    "        for i in range (0,len(list_d)):\n",
    "            list_R.append(dL2R(list_d[i],list_Lambda[i]))\n",
    "else:\n",
    "    if len(m1) == len(m2) == len(m3):\n",
    "        pass\n",
    "    else:\n",
    "        print('ERROR: d and Lambda not match')\n",
    "    \n",
    "\n",
    "#print(list_R)\n",
    "#print(R_si,R_se)\n",
    "print(m1_R)"
   ]
  },
  {
   "cell_type": "code",
   "execution_count": 29,
   "metadata": {},
   "outputs": [
    {
     "name": "stdout",
     "output_type": "stream",
     "text": [
      "0.2143\n"
     ]
    }
   ],
   "source": [
    "U_value = round(homogene_bauteile_U(list_R),r)\n",
    "print(U_value)"
   ]
  },
  {
   "cell_type": "code",
   "execution_count": null,
   "metadata": {},
   "outputs": [],
   "source": []
  },
  {
   "cell_type": "code",
   "execution_count": null,
   "metadata": {},
   "outputs": [],
   "source": []
  }
 ],
 "metadata": {
  "kernelspec": {
   "display_name": "Python 3",
   "language": "python",
   "name": "python3"
  },
  "language_info": {
   "codemirror_mode": {
    "name": "ipython",
    "version": 3
   },
   "file_extension": ".py",
   "mimetype": "text/x-python",
   "name": "python",
   "nbconvert_exporter": "python",
   "pygments_lexer": "ipython3",
   "version": "3.7.3"
  }
 },
 "nbformat": 4,
 "nbformat_minor": 4
}
