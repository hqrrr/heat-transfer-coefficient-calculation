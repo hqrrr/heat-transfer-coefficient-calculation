{
 "cells": [
  {
   "cell_type": "code",
   "execution_count": 76,
   "metadata": {},
   "outputs": [],
   "source": [
    "import numpy as np\n",
    "\n",
    "# DIN EN ISO 6946, Tabelle 10\n",
    "Dicke_Luftschicht = ()\n",
    "R_Luftschicht = ()\n",
    "L = 0\n",
    "\n",
    "richtung_WS = 1 #Richtung des Wärmestroms, 0: Aufwärts, 1:Horizontal, 2:Abwärts\n",
    "r = 4 # 精度,小数点位数\n",
    "\n",
    "# input 'L' into list_Lambda if it's Luftschicht(ruhend)\n",
    "## Dicke [m] / Lambda [W/mK] / Baustoff\n",
    "p = 1\n",
    "m0 = np.array([[0.0125,0.21,'Gipskarton'],\n",
    "            [0.0002,0.2,'PE-Flie'],\n",
    "            [0.0125,0.21,'Gipskarton'],\n",
    "            [0.01,0.04,'Mineralwolle'],\n",
    "            [0.08,0.04,'Mineralwolle'],\n",
    "            [0.01,0.04,'Mineralwolle'],\n",
    "            [0.015,0.36,'Gipsfaser'],\n",
    "            [0.06,0.035,'Faserdaemmstoffe']])\n",
    "\n",
    "m0_p = 94 # %\n",
    "\n",
    "m1 = np.array([[0.0125,0.21,'Gipskarton'],\n",
    "            [0.0002,0.2,'PE-Flie'],\n",
    "            [0.0125,0.21,'Gipskarton'],\n",
    "            [0.01,60,'Stahl'],\n",
    "            [0.08,0.04,'Luftschicht'],\n",
    "            [0.01,60,'Stahl'],\n",
    "            [0.015,0.36,'Gipsfaser'],\n",
    "            [0.06,0.035,'Faserdaemmstoffe']])\n",
    "\n",
    "m1_p = 5 # %\n",
    "\n",
    "m2 = np.array([[0.0125,0.21,'Gipskarton'],\n",
    "            [0.0002,0.2,'PE-Flie'],\n",
    "            [0.0125,0.21,'Gipskarton'],\n",
    "            [0.01,60,'Stahl'],\n",
    "            [0.08,60,'Stahl'],\n",
    "            [0.01,60,'Stahl'],\n",
    "            [0.015,0.36,'Gipsfaser'],\n",
    "            [0.06,0.035,'Faserdaemmstoffe']])\n",
    "\n",
    "m2_p = 1 # %\n",
    "\n"
   ]
  },
  {
   "cell_type": "code",
   "execution_count": 77,
   "metadata": {},
   "outputs": [],
   "source": [
    "# DIN EN ISO 6946, Tabelle 9\n",
    "if richtung_WS == 0:\n",
    "    R_si = 0.1\n",
    "    R_se = 0.04\n",
    "elif richtung_WS == 1:\n",
    "    R_si = 0.13\n",
    "    R_se = 0.04\n",
    "elif richtung_WS == 2:\n",
    "    R_si = 0.17\n",
    "    R_se = 0.04\n",
    "else:\n",
    "    print('ERROR: Richtung des Wärmestroms inkorrekt (0 ~ 2)')"
   ]
  },
  {
   "cell_type": "code",
   "execution_count": 78,
   "metadata": {},
   "outputs": [],
   "source": [
    "# functions\n",
    "## calculate Wärmewiderstand R with Dicke d and Lambda.\n",
    "def dL2R(d,Lambda):\n",
    "    R = d / Lambda\n",
    "    R = round(R,r)\n",
    "    return R\n",
    "\n",
    "def R_tot(list_R):\n",
    "    R_tot = R_si + R_se + sum(list_R)\n",
    "    return R_tot\n",
    "\n",
    "\n",
    "## calculate U value for homogene Bauteile\n",
    "def homogene_bauteile_U(list_R):\n",
    "    R_T = R_si + R_se + sum(list_R)\n",
    "    U = 1 / R_T\n",
    "    return U\n",
    "\n",
    "\n",
    "## calculate U value for inhomogene Bauteile\n",
    "#def inhomogene_bauteile_U(list_R):\n",
    "\n"
   ]
  },
  {
   "cell_type": "code",
   "execution_count": 79,
   "metadata": {},
   "outputs": [],
   "source": [
    "# calculate R value\n",
    "list_R = []\n",
    "list_R_tot_i = []\n",
    "if len(m0) == len(m1) == len(m2):\n",
    "    if p == 1:\n",
    "        for i in range (0,len(m0)):\n",
    "            list_R.append(dL2R(float(m0[i][0]),float(m0[i][1])))\n",
    "        U_value = round(homogene_bauteile_U(list_R),r)\n",
    "        \n",
    "    elif p == 2:\n",
    "        for i in range (0,len(m0)):\n",
    "            list_R.append(dL2R(m0[i][0],m0[i][1]))\n",
    "        list_R_tot_i.append(R_tot(list_R))\n",
    "        \n",
    "        for i in range (0,len(m0)):\n",
    "            list_R.append(dL2R(m1[i][0],m1[i][1]))\n",
    "        list_R_tot_i.append(R_tot(list_R))\n",
    "        \n",
    "        R_tot_upper = 1 / (m0_p / 100 / list_R_tot_i[0] + m1_p / 100 / list_R_tot_i[1])\n",
    "    \n",
    "    elif p == 3:\n",
    "        pass\n",
    "    else:\n",
    "        print('ERROR: p value incorrect')\n",
    "else:\n",
    "    print('ERROR: Matrix not match')\n"
   ]
  },
  {
   "cell_type": "code",
   "execution_count": 80,
   "metadata": {},
   "outputs": [
    {
     "name": "stdout",
     "output_type": "stream",
     "text": [
      "[['0.0125' '0.21' 'Gipskarton']\n",
      " ['0.0002' '0.2' 'PE-Flie']\n",
      " ['0.0125' '0.21' 'Gipskarton']\n",
      " ['0.01' '0.04' 'Mineralwolle']\n",
      " ['0.08' '0.04' 'Mineralwolle']\n",
      " ['0.01' '0.04' 'Mineralwolle']\n",
      " ['0.015' '0.36' 'Gipsfaser']\n",
      " ['0.06' '0.035' 'Faserdaemmstoffe']]\n",
      "list of R:  [0.0595, 0.001, 0.0595, 0.25, 2.0, 0.25, 0.0417, 1.7143]\n",
      "list of R_tot_i:  []\n",
      "length =  8 8 8\n",
      "R_si =  0.13 R_se =  0.04\n",
      "U value =  0.22\n"
     ]
    }
   ],
   "source": [
    "print(m0)\n",
    "print('list of R: ',list_R)\n",
    "print('list of R_tot_i: ',list_R_tot_i)\n",
    "print('length = ',len(m0),len(m1),len(m2))\n",
    "print('R_si = ',R_si,'R_se = ',R_se)\n",
    "\n",
    "\n",
    "print('U value = ',U_value)"
   ]
  },
  {
   "cell_type": "code",
   "execution_count": null,
   "metadata": {},
   "outputs": [],
   "source": []
  }
 ],
 "metadata": {
  "kernelspec": {
   "display_name": "Python 3",
   "language": "python",
   "name": "python3"
  },
  "language_info": {
   "codemirror_mode": {
    "name": "ipython",
    "version": 3
   },
   "file_extension": ".py",
   "mimetype": "text/x-python",
   "name": "python",
   "nbconvert_exporter": "python",
   "pygments_lexer": "ipython3",
   "version": "3.7.3"
  }
 },
 "nbformat": 4,
 "nbformat_minor": 4
}
